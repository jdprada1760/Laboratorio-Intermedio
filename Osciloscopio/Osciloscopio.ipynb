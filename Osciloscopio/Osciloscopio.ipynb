{
 "metadata": {
  "name": "",
  "signature": "sha256:d1f9687ef54628bfad15a9122ddb3f5fda4e68fca9454bedfb9c3a39e217d4eb"
 },
 "nbformat": 3,
 "nbformat_minor": 0,
 "worksheets": [
  {
   "cells": [
    {
     "cell_type": "code",
     "collapsed": false,
     "input": [
      "%pylab inline\n",
      "from scipy import optimize"
     ],
     "language": "python",
     "metadata": {},
     "outputs": [
      {
       "output_type": "stream",
       "stream": "stdout",
       "text": [
        "Populating the interactive namespace from numpy and matplotlib\n"
       ]
      },
      {
       "output_type": "stream",
       "stream": "stderr",
       "text": [
        "WARNING: pylab import has clobbered these variables: ['f', 'table']\n",
        "`%matplotlib` prevents importing * from pylab and numpy\n"
       ]
      }
     ],
     "prompt_number": 168
    },
    {
     "cell_type": "code",
     "collapsed": false,
     "input": [
      "!ls"
     ],
     "language": "python",
     "metadata": {},
     "outputs": [
      {
       "output_type": "stream",
       "stream": "stdout",
       "text": [
        "Osciloscopio.ipynb  resonancia.data\r\n"
       ]
      }
     ],
     "prompt_number": 169
    },
    {
     "cell_type": "code",
     "collapsed": false,
     "input": [
      "# Carga los datos de la curva de resonancia\n",
      "name = \"resonancia.data\"\n",
      "table = np.loadtxt(name, skiprows = 1, delimiter = ',')[3:14].T\n",
      "table[0] = table[0]*1000/(2*pi)"
     ],
     "language": "python",
     "metadata": {},
     "outputs": [],
     "prompt_number": 275
    },
    {
     "cell_type": "code",
     "collapsed": false,
     "input": [
      "# Grafica vrms contra frecuencia\n",
      "scatter(table[0], table[2])"
     ],
     "language": "python",
     "metadata": {},
     "outputs": [
      {
       "metadata": {},
       "output_type": "pyout",
       "prompt_number": 276,
       "text": [
        "<matplotlib.collections.PathCollection at 0x7f54c31fb0d0>"
       ]
      },
      {
       "metadata": {},
       "output_type": "display_data",
       "png": "[encoded data removed]",
       "text": [
        "<matplotlib.figure.Figure at 0x7f54c36951d0>"
       ]
      }
     ],
     "prompt_number": 276
    },
    {
     "cell_type": "code",
     "collapsed": false,
     "input": [
      "# Determina la curva de resonancia con sus parametros para realizar el fit\n",
      "# v0 - dependiente de la amplitud de forzamiento\n",
      "# g - gamma \n",
      "# w0 - frecuencia natural\n",
      "# w - frecuencia forzada\n",
      "# return v0/sqrt(4*((w - w0)**2) + g**2)\n",
      "def vrms(w,w0,g,v0):\n",
      "    return v0/sqrt((w**2 - (w0)**2)**2 + (g*w)**2)"
     ],
     "language": "python",
     "metadata": {},
     "outputs": [],
     "prompt_number": 277
    },
    {
     "cell_type": "code",
     "collapsed": false,
     "input": [
      "# Gets the parameters \n",
      "params, errors = optimize.curve_fit(vrms,table[0] ,table[1], maxfev = 100000)\n",
      "print params, errors"
     ],
     "language": "python",
     "metadata": {},
     "outputs": [
      {
       "output_type": "stream",
       "stream": "stdout",
       "text": [
        "[  1.15798490e+03  -1.18492008e+02   6.57181415e+07] [[  8.34911698e+00   9.76307928e+00  -4.69708348e+06]\n",
        " [  9.76307928e+00   9.42016386e+01  -4.07028536e+07]\n",
        " [ -4.69708348e+06  -4.07028536e+07   1.87595117e+13]]\n"
       ]
      }
     ],
     "prompt_number": 278
    },
    {
     "cell_type": "code",
     "collapsed": false,
     "input": [
      "# Grafica el fit contra los datos \n",
      "x = linspace(1000, 1700, 100)\n",
      "y = vrms(x, params[0], params[1], params[2])\n",
      "errorbar(table[0], table[1], fmt = \"o\",yerr = 1, markersize = 1   )\n",
      "plot(x,y)"
     ],
     "language": "python",
     "metadata": {},
     "outputs": [
      {
       "metadata": {},
       "output_type": "pyout",
       "prompt_number": 280,
       "text": [
        "[<matplotlib.lines.Line2D at 0x7f54c36a0dd0>]"
       ]
      },
      {
       "metadata": {},
       "output_type": "display_data",
       "png": "[encoded data removed]",
       "text": [
        "<matplotlib.figure.Figure at 0x7f54c3538d90>"
       ]
      }
     ],
     "prompt_number": 280
    },
    {
     "cell_type": "code",
     "collapsed": false,
     "input": [
      "# Define la funcion \n",
      "def f(x):\n",
      "    return -vrms(x, params[0], params[1], params[2])\n",
      "x = max_x = optimize.fmin(f, 0)"
     ],
     "language": "python",
     "metadata": {},
     "outputs": [
      {
       "output_type": "stream",
       "stream": "stdout",
       "text": [
        "Optimization terminated successfully.\n",
        "         Current function value: -479.581563\n",
        "         Iterations: 45\n",
        "         Function evaluations: 90\n"
       ]
      }
     ],
     "prompt_number": 281
    },
    {
     "cell_type": "code",
     "collapsed": false,
     "input": [
      "print x"
     ],
     "language": "python",
     "metadata": {},
     "outputs": [
      {
       "output_type": "stream",
       "stream": "stdout",
       "text": [
        "[ 1154.94975]\n"
       ]
      }
     ],
     "prompt_number": 282
    },
    {
     "cell_type": "code",
     "collapsed": false,
     "input": [
      "L = 2*10**-3\n",
      "R = 0.8\n",
      "C = (47.0)*10**-9\n",
      "w0 = 1/sqrt(L*C)\n",
      "g = R/L\n",
      "print w0, g\n",
      "x = linspace(1000, 1700, 100)\n",
      "y = vrms(x, w0, g, params[2])\n",
      "errorbar(table[0], table[2], fmt = \"o\",yerr = 1, markersize = 1   )\n",
      "plot(x,y)"
     ],
     "language": "python",
     "metadata": {},
     "outputs": [
      {
       "output_type": "stream",
       "stream": "stdout",
       "text": [
        "103142.124626 400.0\n"
       ]
      },
      {
       "metadata": {},
       "output_type": "pyout",
       "prompt_number": 284,
       "text": [
        "[<matplotlib.lines.Line2D at 0x7f54c32111d0>]"
       ]
      },
      {
       "metadata": {},
       "output_type": "display_data",
       "png": "[encoded data removed]",
       "text": [
        "<matplotlib.figure.Figure at 0x7f54c3211cd0>"
       ]
      }
     ],
     "prompt_number": 284
    },
    {
     "cell_type": "code",
     "collapsed": false,
     "input": [
      "(108*10**-6 )/470\n"
     ],
     "language": "python",
     "metadata": {},
     "outputs": [
      {
       "metadata": {},
       "output_type": "pyout",
       "prompt_number": 246,
       "text": [
        "2.2978723404255318e-07"
       ]
      }
     ],
     "prompt_number": 246
    },
    {
     "cell_type": "code",
     "collapsed": false,
     "input": [
      "470*10**-6*470"
     ],
     "language": "python",
     "metadata": {},
     "outputs": [
      {
       "metadata": {},
       "output_type": "pyout",
       "prompt_number": 247,
       "text": [
        "0.22089999999999999"
       ]
      }
     ],
     "prompt_number": 247
    },
    {
     "cell_type": "code",
     "collapsed": false,
     "input": [
      "574*(L/1154**2)"
     ],
     "language": "python",
     "metadata": {},
     "outputs": [
      {
       "metadata": {},
       "output_type": "pyout",
       "prompt_number": 291,
       "text": [
        "8.620456613872627e-07"
       ]
      }
     ],
     "prompt_number": 291
    },
    {
     "cell_type": "code",
     "collapsed": false,
     "input": [
      "470**2"
     ],
     "language": "python",
     "metadata": {},
     "outputs": [
      {
       "metadata": {},
       "output_type": "pyout",
       "prompt_number": 289,
       "text": [
        "220900"
       ]
      }
     ],
     "prompt_number": 289
    },
    {
     "cell_type": "code",
     "collapsed": false,
     "input": [
      "270*10**3/470"
     ],
     "language": "python",
     "metadata": {},
     "outputs": [
      {
       "metadata": {},
       "output_type": "pyout",
       "prompt_number": 290,
       "text": [
        "574"
       ]
      }
     ],
     "prompt_number": 290
    },
    {
     "cell_type": "code",
     "collapsed": false,
     "input": [],
     "language": "python",
     "metadata": {},
     "outputs": []
    }
   ],
   "metadata": {}
  }
 ]
}