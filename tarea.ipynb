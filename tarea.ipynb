{
 "cells": [
  {
   "cell_type": "code",
   "execution_count": 5,
   "metadata": {
    "collapsed": false
   },
   "outputs": [
    {
     "name": "stdout",
     "output_type": "stream",
     "text": [
      "Ingrese un año 1999\n",
      "El animal asociado es Liebre\n"
     ]
    }
   ],
   "source": [
    "lista=[\"Dragon\",\"Serpiente\",\"Caballo\",\"Obeja\",\"Mono\",\"Gallo\",\"Perro\",\"Cerdo\",\"Rata\",\"Buey\",\"Tigre\",\"Liebre\"]\n",
    "x =int( raw_input(\"Ingrese un año \") )\n",
    "y = (x-2000) % 12\n",
    "print \"El animal asociado es \"+lista[y]"
   ]
  },
  {
   "cell_type": "code",
   "execution_count": 31,
   "metadata": {
    "collapsed": false
   },
   "outputs": [
    {
     "name": "stdout",
     "output_type": "stream",
     "text": [
      "Ingrese una clave jnsfjiofweijo7R\n",
      "No es una clave segura\n"
     ]
    }
   ],
   "source": [
    "def f(x):\n",
    "    lon=False\n",
    "    num=False\n",
    "    mayu=False\n",
    "    minu=False\n",
    "    if len(x)>=8:\n",
    "        lon=True\n",
    "    for i in x:\n",
    "        if (not num) and (i in [0-9]):\n",
    "            num=True\n",
    "    for i in x:\n",
    "        if (not mayu) and (i in \"ABCDEFGHIJKLMNOPQRSTUVWXYZ\"):\n",
    "            mayu=True\n",
    "    for i in x:\n",
    "        if (not minu) and (i in \"abcdefghijklmnopqrstuvwxyz\"):\n",
    "            minu=True\n",
    "    return (lon and num and mayu and minu)\n",
    "            \n",
    "x =raw_input(\"Ingrese una clave \")\n",
    "if f(x):\n",
    "    print \"Es una clave segura\"\n",
    "else:\n",
    "    print \"No es una clave segura\""
   ]
  },
  {
   "cell_type": "code",
   "execution_count": 11,
   "metadata": {
    "collapsed": false
   },
   "outputs": [
    {
     "name": "stdout",
     "output_type": "stream",
     "text": [
      "Los numeros perfectos del 1 al 10000 son:\n",
      "6\n",
      "28\n",
      "496\n",
      "8128\n"
     ]
    }
   ],
   "source": [
    "def perfecto(x):\n",
    "    y=0\n",
    "    for i in range(1,x-1):\n",
    "        if (x%i)==0:\n",
    "            y+=i\n",
    "    if y==x:\n",
    "        return True\n",
    "    else:\n",
    "        return False\n",
    "    \n",
    "print \"Los numeros perfectos del 1 al 10000 son:\"\n",
    "for i in range(1,10000):\n",
    "    if perfecto(i):\n",
    "        print str(i)j\n",
    "    "
   ]
  },
  {
   "cell_type": "code",
   "execution_count": 16,
   "metadata": {
    "collapsed": false
   },
   "outputs": [
    {
     "name": "stdout",
     "output_type": "stream",
     "text": [
      "Ingrese una palabra ASDt\n",
      "El puntaje es 5\n"
     ]
    }
   ],
   "source": [
    "lista={\"a\":1,\"e\":1,\"i\":1,\"l\":1,\"n\":1,\"o\":1,\"r\":1,\"s\":1,\"t\":1,\"u\":1,\"d\":2,\"g\":2,\"b\":3,\"c\":3,\"m\":3,\"p\":3,\"f\":4,\"h\":4,\"v\":4,\"w\":4,\"y\":4,\"k\":5,\"j\":8,\"x\":8,\"q\":10,\"z\":10}\n",
    "x =(raw_input(\"Ingrese una palabra \")).lower()\n",
    "y=0\n",
    "for i in x:\n",
    "    y+=lista[i]\n",
    "print \"El puntaje es \"+str(y)"
   ]
  },
  {
   "cell_type": "code",
   "execution_count": 24,
   "metadata": {
    "collapsed": false
   },
   "outputs": [
    {
     "name": "stdout",
     "output_type": "stream",
     "text": [
      "Ingrese a y b 2 3\n",
      "a + b = 5\n",
      "a - b = -1\n",
      "a x b = 6\n",
      "a/b = 0.666666666667\n",
      "El residuo de a al dividirlo por b es 2\n",
      "El logaritmo en base 10 de a es 0.301029995664\n",
      "La potencia b de a es 8\n"
     ]
    }
   ],
   "source": [
    "import math\n",
    "num=(raw_input(\"Ingrese a y b \")).split()\n",
    "a=int(num[0])\n",
    "b=int(num[1])\n",
    "print \"a + b = \"+str(a+b)\n",
    "print \"a - b = \"+str(a-b)\n",
    "print \"a x b = \"+str(a*b)\n",
    "if b==0:\n",
    "    print \"No se puede dividir por 0\"\n",
    "else:\n",
    "    print \"a/b = \"+ str(a/float(b))\n",
    "    print \"El residuo de a al dividirlo por b es \"+ str(a%b)\n",
    "print \"El logaritmo en base 10 de a es \" + str(math.log10(a))\n",
    "print \"La potencia b de a es \"+ str(a**b)"
   ]
  },
  {
   "cell_type": "code",
   "execution_count": null,
   "metadata": {
    "collapsed": true
   },
   "outputs": [],
   "source": [
    "isupper()"
   ]
  }
 ],
 "metadata": {
  "kernelspec": {
   "display_name": "Python 2",
   "language": "python",
   "name": "python2"
  },
  "language_info": {
   "codemirror_mode": {
    "name": "ipython",
    "version": 2
   },
   "file_extension": ".py",
   "mimetype": "text/x-python",
   "name": "python",
   "nbconvert_exporter": "python",
   "pygments_lexer": "ipython2",
   "version": "2.7.6"
  }
 },
 "nbformat": 4,
 "nbformat_minor": 0
}
