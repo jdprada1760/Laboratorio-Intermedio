{
 "metadata": {
  "name": "",
  "signature": "sha256:87c834b1563b260d24222fbae6ea77b6d9d4a9b3c064b4a10ac6f2a2209ed8ec"
 },
 "nbformat": 3,
 "nbformat_minor": 0,
 "worksheets": [
  {
   "cells": [
    {
     "cell_type": "code",
     "collapsed": false,
     "input": [
      "%pylab inline\n",
      "!ls"
     ],
     "language": "python",
     "metadata": {},
     "outputs": [
      {
       "output_type": "stream",
       "stream": "stdout",
       "text": [
        "Populating the interactive namespace from numpy and matplotlib\n",
        "Analisis.ipynb\t  informeFinalNotes.bib    inter1.jpg  P11\t  P1bg.table  P6  Pictures\t    variacion.jpg\r\n",
        "distancia.jpg\t  informeFinal.pdf\t   inter2.jpg  P12\t  P3\t      P7  polarizacion.jpg  variations.data\r\n",
        "informeFinal.aux  informeFinal.synctex.gz  inter3.jpg  P13\t  P4\t      P8  polarizador1.jpg  variations.table\r\n",
        "informeFinal.log  informeFinal.tex\t   P10\t       P1bg.data  P5\t      P9  polarizador2.jpg\r\n"
       ]
      }
     ],
     "prompt_number": 1
    },
    {
     "cell_type": "code",
     "collapsed": false,
     "input": [
      "a = np.loadtxt(\"variations.data\", delimiter= ',').T[1]\n",
      "print mean(a), std(a), sqrt(mean(a))\n",
      "yerr = 3*std(a)\n",
      "prom = mean(a)\n",
      "desvest = std(a)"
     ],
     "language": "python",
     "metadata": {},
     "outputs": [
      {
       "output_type": "stream",
       "stream": "stdout",
       "text": [
        "67.16 7.19544300235 8.19512049942\n"
       ]
      }
     ],
     "prompt_number": 203
    },
    {
     "cell_type": "code",
     "collapsed": false,
     "input": [
      "a = np.loadtxt(\"P1bg.data\", delimiter= ',').T[1]\n",
      "print mean(a)/60, 3*std(a)/60"
     ],
     "language": "python",
     "metadata": {},
     "outputs": [
      {
       "output_type": "stream",
       "stream": "stdout",
       "text": [
        "0.353333333333 0.193390796058\n"
       ]
      }
     ],
     "prompt_number": 161
    },
    {
     "cell_type": "code",
     "collapsed": false,
     "input": [
      "\n",
      "fig = plt.figure(figsize = (15,10))\n",
      "ax = fig.add_subplot(111)\n",
      "ax.errorbar(x+delta/2., y, fmt = \"o\",yerr = sqrt(y), markersize = 7   )\n",
      "ax.bar(x,y, width = delta, alpha= 0.5)\n",
      "ax.set_ylim(0,34)\n",
      "ax.tick_params(axis='x', labelsize=12)\n",
      "ax.tick_params(axis='y', labelsize=12)\n",
      "ax.set_ylabel(\"$Numero\\ de\\ mediciones$\", fontsize = 27)\n",
      "ax.set_xlabel(r\"$Intervalos\\ (\\frac{cts}{60s})$\", fontsize = 27)\n",
      "ax.set_title(\"$Histograma\\ de\\ variacion\\ estadistica$\", fontsize = 27)\n",
      "for tick in ax.xaxis.get_major_ticks():\n",
      "                tick.label.set_fontsize(20) \n",
      "for tick in ax.yaxis.get_major_ticks():\n",
      "                tick.label.set_fontsize(20) \n",
      "                # specify integer or one of preset strings, e.g.\n",
      "                #tick.label.set_fontsize('x-small') \n",
      "fig.savefig('variacion.jpg')\n",
      "\n"
     ],
     "language": "python",
     "metadata": {},
     "outputs": [
      {
       "metadata": {},
       "output_type": "display_data",
       "png": "[encoded data removed]",
       "text": [
        "<matplotlib.figure.Figure at 0x7f0b5371ce10>"
       ]
      }
     ],
     "prompt_number": 206
    },
    {
     "cell_type": "code",
     "collapsed": false,
     "input": [
      "nbins = 5\n",
      "arr = a\n",
      "delta = (amax(arr)-amin(arr))/nbins\n",
      "x = []\n",
      "y = []\n",
      "for i in range(nbins-1):\n",
      "    x.append(amin(arr)+i*delta)\n",
      "    l = 0\n",
      "    for b in arr:\n",
      "        if (b >= amin(arr)+(i-1)*delta) & (b < amin(arr)+(i+1)*delta) :\n",
      "            l = l+1\n",
      "    y.append(l)\n",
      "x.append(amax(arr)-delta)\n",
      "l = 0\n",
      "for b in arr:\n",
      "    if (b >= amax(arr)-delta) & (b <= amax(arr)) :\n",
      "        l = l+1\n",
      "y.append(l)\n",
      "x= array(x)\n",
      "y = array(y)\n",
      "\n"
     ],
     "language": "python",
     "metadata": {},
     "outputs": [],
     "prompt_number": 205
    },
    {
     "cell_type": "code",
     "collapsed": false,
     "input": [
      "import math\n",
      "def poisson(n, a):\n",
      "    return ((a**n)/math.factorial(n))*exp(-a)"
     ],
     "language": "python",
     "metadata": {},
     "outputs": [],
     "prompt_number": 163
    },
    {
     "cell_type": "code",
     "collapsed": false,
     "input": [
      "xteo = arange(50,85,1)\n",
      "yteo = np.zeros(len(xteo))\n",
      "for i in range(len(xteo)):\n",
      "    yteo[i] = poisson(xteo[i],67.16)"
     ],
     "language": "python",
     "metadata": {},
     "outputs": [],
     "prompt_number": 164
    },
    {
     "cell_type": "code",
     "collapsed": false,
     "input": [
      "37/50"
     ],
     "language": "python",
     "metadata": {},
     "outputs": [
      {
       "metadata": {},
       "output_type": "pyout",
       "prompt_number": 165,
       "text": [
        "0"
       ]
      }
     ],
     "prompt_number": 165
    },
    {
     "cell_type": "code",
     "collapsed": false,
     "input": [
      "l = 0\n",
      "for p in a:\n",
      "    if (p> prom-desvest ) &(p < prom + desvest):\n",
      "        l= l+1\n",
      "print l"
     ],
     "language": "python",
     "metadata": {},
     "outputs": [
      {
       "output_type": "stream",
       "stream": "stdout",
       "text": [
        "0\n"
       ]
      }
     ],
     "prompt_number": 166
    },
    {
     "cell_type": "code",
     "collapsed": false,
     "input": [
      "print 32/50."
     ],
     "language": "python",
     "metadata": {},
     "outputs": [
      {
       "output_type": "stream",
       "stream": "stdout",
       "text": [
        "0.64\n"
       ]
      }
     ],
     "prompt_number": 167
    },
    {
     "cell_type": "code",
     "collapsed": false,
     "input": [
      "len(where(a>= prom-desvest )[0])"
     ],
     "language": "python",
     "metadata": {},
     "outputs": [
      {
       "metadata": {},
       "output_type": "pyout",
       "prompt_number": 168,
       "text": [
        "0"
       ]
      }
     ],
     "prompt_number": 168
    },
    {
     "cell_type": "heading",
     "level": 1,
     "metadata": {},
     "source": [
      "Sales"
     ]
    },
    {
     "cell_type": "code",
     "collapsed": false,
     "input": [
      "!ls ./P6"
     ],
     "language": "python",
     "metadata": {},
     "outputs": [
      {
       "output_type": "stream",
       "stream": "stdout",
       "text": [
        "das\t    manta.data~      mantametal.data~  mantapapel.data~  P6bg.data~\t    Untitled Document~\r\n",
        "manta.data  mantametal.data  mantapapel.data   P6bg.data\t Untitled Document\r\n"
       ]
      }
     ],
     "prompt_number": 207
    },
    {
     "cell_type": "code",
     "collapsed": false,
     "input": [
      "a = np.loadtxt(\"./P6/P6bg.data\", delimiter= ',').T[1]\n",
      "print mean(a), std(a), sqrt(mean(a))"
     ],
     "language": "python",
     "metadata": {},
     "outputs": [
      {
       "output_type": "stream",
       "stream": "stdout",
       "text": [
        "26.6 8.18779579618 5.15751878329\n"
       ]
      }
     ],
     "prompt_number": 208
    },
    {
     "cell_type": "code",
     "collapsed": false,
     "input": [
      "!ls ./P7"
     ],
     "language": "python",
     "metadata": {},
     "outputs": [
      {
       "output_type": "stream",
       "stream": "stdout",
       "text": [
        "Ra-226.data  Ra-226.data~  Ra-226.table  Ra-226.table~\r\n"
       ]
      }
     ],
     "prompt_number": 2
    },
    {
     "cell_type": "code",
     "collapsed": false,
     "input": [
      "a = np.loadtxt(\"./P7/Ra-226.data\", delimiter= ',')\n",
      "print a"
     ],
     "language": "python",
     "metadata": {},
     "outputs": [
      {
       "output_type": "stream",
       "stream": "stdout",
       "text": [
        "[[   2.  539.  530.  536.  553.  554.]\n",
        " [   3.  278.  283.  294.  281.  269.]\n",
        " [   4.  173.  183.  184.  166.  190.]\n",
        " [   5.  123.  139.  134.  112.  129.]\n",
        " [   6.   99.  104.  100.   77.  104.]\n",
        " [   7.   93.   76.   78.   82.   65.]\n",
        " [   8.   68.   70.   72.   66.   77.]\n",
        " [   9.   67.   55.   48.   67.   65.]\n",
        " [  10.   45.   40.   52.   48.   64.]]\n"
       ]
      }
     ],
     "prompt_number": 3
    },
    {
     "cell_type": "code",
     "collapsed": false,
     "input": [
      "d = a.T[0].T\n",
      "a = a.T[1:].T"
     ],
     "language": "python",
     "metadata": {},
     "outputs": [],
     "prompt_number": 4
    },
    {
     "cell_type": "code",
     "collapsed": false,
     "input": [
      "x = []\n",
      "for i in a:\n",
      "    x.append(mean(i))\n",
      "x = array(x)\n",
      "sigmax = []\n",
      "for i in a:\n",
      "    sigmax.append(std(i))\n",
      "sigmax = array(sigmax)"
     ],
     "language": "python",
     "metadata": {},
     "outputs": [],
     "prompt_number": 5
    },
    {
     "cell_type": "code",
     "collapsed": false,
     "input": [
      "print x,d,sigmax"
     ],
     "language": "python",
     "metadata": {},
     "outputs": [
      {
       "output_type": "stream",
       "stream": "stdout",
       "text": [
        "[ 542.4  281.   179.2  127.4   96.8   78.8   70.6   60.4   49.8] [  2.   3.   4.   5.   6.   7.   8.   9.  10.] [  9.52050419   8.0746517    8.56504524   9.35093578  10.10742301\n",
        "   9.06421535   3.77359245   7.63151361   8.10925397]\n"
       ]
      }
     ],
     "prompt_number": 6
    },
    {
     "cell_type": "code",
     "collapsed": false,
     "input": [
      "from scipy import optimize\n",
      "def fun(d,a,c):\n",
      "    return a+ 4*x[0]/(d**c)\n",
      "params1, errors1 = optimize.curve_fit(fun,d,x, sigma = sigmax, maxfev = 100000)\n",
      "print params1,sqrt(errors1)"
     ],
     "language": "python",
     "metadata": {},
     "outputs": [
      {
       "output_type": "stream",
       "stream": "stdout",
       "text": [
        "[ 40.60601633   2.05481623] [[ 5.04999919  0.37620458]\n",
        " [ 0.37620458  0.03570547]]\n"
       ]
      }
     ],
     "prompt_number": 7
    },
    {
     "cell_type": "code",
     "collapsed": false,
     "input": [
      "fig = plt.figure(figsize = (15,10))\n",
      "ax = fig.add_subplot(111)\n",
      "d1 = linspace(1,11,100)\n",
      "ax.errorbar(d, x, fmt = \"o\",yerr = sigmax, xerr = 0.1, markersize = 7  )\n",
      "ax.plot(d1,fun(d1,params1[0], params1[1]))\n",
      "ax.legend( r\"$C = 40.606\\pm 5.05 + \\frac{2169.6\\pm38.1}{d^{2.055\\pm0.036}}$\")\n",
      "ax.set_ylim(0,600)\n",
      "ax.tick_params(axis='x', labelsize=12)\n",
      "ax.tick_params(axis='y', labelsize=12)\n",
      "ax.set_ylabel(r\"$Conteos (\\frac{cts}{10s})$\", fontsize = 27)\n",
      "ax.set_xlabel(r\"$Distancia(\\pm0.1cm)$\", fontsize = 27)\n",
      "ax.set_title(\"$Intensidad\\ Vs\\ Distancia$\", fontsize = 27)\n",
      "for tick in ax.xaxis.get_major_ticks():\n",
      "                tick.label.set_fontsize(20) \n",
      "for tick in ax.yaxis.get_major_ticks():\n",
      "                tick.label.set_fontsize(20) \n",
      "                # specify integer or one of preset strings, e.g.\n",
      "                #tick.label.set_fontsize('x-small') \n",
      "fig.savefig('distancia.jpg')\n"
     ],
     "language": "python",
     "metadata": {},
     "outputs": [
      {
       "metadata": {},
       "output_type": "display_data",
       "png": "[encoded data removed]",
       "text": [
        "<matplotlib.figure.Figure at 0x7f3136188710>"
       ]
      }
     ],
     "prompt_number": 8
    },
    {
     "cell_type": "code",
     "collapsed": false,
     "input": [
      "print 4*x[0], 4*sigmax[0]"
     ],
     "language": "python",
     "metadata": {},
     "outputs": [
      {
       "output_type": "stream",
       "stream": "stdout",
       "text": [
        "2169.6 38.0820167533\n"
       ]
      }
     ],
     "prompt_number": 222
    },
    {
     "cell_type": "code",
     "collapsed": false,
     "input": [
      "!ls ./P8"
     ],
     "language": "python",
     "metadata": {},
     "outputs": [
      {
       "output_type": "stream",
       "stream": "stdout",
       "text": [
        "alpha.table\r\n"
       ]
      }
     ],
     "prompt_number": 9
    },
    {
     "cell_type": "code",
     "collapsed": false,
     "input": [
      "a = np.loadtxt(\"./P8/alpha.table\", delimiter= ',')\n",
      "delta = []\n",
      "percent = []\n",
      "num = []\n",
      "dp = []\n",
      "c =[]\n",
      "dc = []\n",
      "cn =[]\n",
      "dcn = []\n",
      "for i in a:\n",
      "    num.append(i[0])\n",
      "    c.append(i[1])\n",
      "    cn.append(i[2])\n",
      "    dc.append(sqrt(i[1]))\n",
      "    dcn.append(sqrt(i[2]))\n",
      "    delta.append(i[2]-i[1])\n",
      "    percent.append((i[2]-i[1])/i[2])\n",
      "    dp.append(sqrt((i[1]/(i[2]**2))+(i[1]**2/(i[2]**3))))"
     ],
     "language": "python",
     "metadata": {},
     "outputs": [],
     "prompt_number": 28
    },
    {
     "cell_type": "code",
     "collapsed": false,
     "input": [
      "tabla1 = array([num,c,dc,cn,dcn]).T\n",
      "tabla2 = array([num,delta,percent,dp]).T"
     ],
     "language": "python",
     "metadata": {},
     "outputs": [],
     "prompt_number": 29
    },
    {
     "cell_type": "code",
     "collapsed": false,
     "input": [
      "print tabla1,tabla2"
     ],
     "language": "python",
     "metadata": {},
     "outputs": [
      {
       "output_type": "stream",
       "stream": "stdout",
       "text": [
        "[[  1.50000000e+00   1.26600000e+04   1.12516665e+02   2.86600000e+04\n",
        "    1.69292646e+02]\n",
        " [  2.00000000e+00   9.46200000e+03   9.72728122e+01   2.12800000e+04\n",
        "    1.45876660e+02]\n",
        " [  2.50000000e+00   7.04400000e+03   8.39285410e+01   1.66300000e+04\n",
        "    1.28957357e+02]\n",
        " [  3.00000000e+00   5.29900000e+03   7.27942305e+01   1.36400000e+04\n",
        "    1.16790411e+02]\n",
        " [  3.50000000e+00   4.22500000e+03   6.50000000e+01   1.10300000e+04\n",
        "    1.05023807e+02]\n",
        " [  4.00000000e+00   3.40600000e+03   5.83609458e+01   9.57000000e+03\n",
        "    9.78263768e+01]\n",
        " [  4.50000000e+00   2.72200000e+03   5.21727898e+01   7.12400000e+03\n",
        "    8.44037914e+01]\n",
        " [  5.00000000e+00   2.39400000e+03   4.89285193e+01   5.74000000e+03\n",
        "    7.57627877e+01]\n",
        " [  5.50000000e+00   2.10600000e+03   4.58911756e+01   4.98500000e+03\n",
        "    7.06045324e+01]\n",
        " [  6.00000000e+00   1.76500000e+03   4.20119031e+01   4.23000000e+03\n",
        "    6.50384502e+01]\n",
        " [  6.50000000e+00   1.55800000e+03   3.94715087e+01   3.70600000e+03\n",
        "    6.08769250e+01]\n",
        " [  7.00000000e+00   1.36100000e+03   3.68917335e+01   3.16300000e+03\n",
        "    5.62405548e+01]\n",
        " [  7.50000000e+00   1.15900000e+03   3.40440891e+01   2.75500000e+03\n",
        "    5.24880939e+01]\n",
        " [  8.00000000e+00   1.04600000e+03   3.23419233e+01   2.50000000e+03\n",
        "    5.00000000e+01]\n",
        " [  8.50000000e+00   9.40000000e+02   3.06594194e+01   2.25800000e+03\n",
        "    4.75184175e+01]\n",
        " [  9.00000000e+00   8.25000000e+02   2.87228132e+01   1.98900000e+03\n",
        "    4.45982062e+01]\n",
        " [  9.50000000e+00   7.95000000e+02   2.81957444e+01   1.84100000e+03\n",
        "    4.29068759e+01]\n",
        " [  1.00000000e+01   7.10000000e+02   2.66458252e+01   1.65200000e+03\n",
        "    4.06448029e+01]\n",
        " [  1.10000000e+01   5.95000000e+02   2.43926218e+01   1.36900000e+03\n",
        "    3.70000000e+01]\n",
        " [  1.20000000e+01   5.53000000e+02   2.35159520e+01   1.09800000e+03\n",
        "    3.31360831e+01]\n",
        " [  1.30000000e+01   4.61000000e+02   2.14709106e+01   9.67000000e+02\n",
        "    3.10966236e+01]\n",
        " [  1.40000000e+01   3.34000000e+02   1.82756669e+01   8.18000000e+02\n",
        "    2.86006993e+01]\n",
        " [  1.50000000e+01   2.99000000e+02   1.72916165e+01   6.80000000e+02\n",
        "    2.60768096e+01]\n",
        " [  1.60000000e+01   2.88000000e+02   1.69705627e+01   5.82000000e+02\n",
        "    2.41246762e+01]\n",
        " [  1.70000000e+01   2.17000000e+02   1.47309199e+01   4.94000000e+02\n",
        "    2.22261108e+01]\n",
        " [  1.80000000e+01   2.05000000e+02   1.43178211e+01   4.17000000e+02\n",
        "    2.04205779e+01]\n",
        " [  2.00000000e+01   1.44000000e+02   1.20000000e+01   3.20000000e+02\n",
        "    1.78885438e+01]\n",
        " [  2.50000000e+01   9.70000000e+01   9.84885780e+00   1.89000000e+02\n",
        "    1.37477271e+01]] [[  1.50000000e+00   1.60000000e+04   5.58269365e-01   4.71392567e-03]\n",
        " [  2.00000000e+00   1.18180000e+04   5.55357143e-01   5.49414473e-03]\n",
        " [  2.50000000e+00   9.58600000e+03   5.76428142e-01   6.02153370e-03]\n",
        " [  3.00000000e+00   8.34100000e+03   6.11510264e-01   6.28859935e-03]\n",
        " [  3.50000000e+00   6.80500000e+03   6.16953762e-01   6.93036637e-03]\n",
        " [  4.00000000e+00   6.16400000e+03   6.44096134e-01   7.10108700e-03]\n",
        " [  4.50000000e+00   4.40200000e+03   6.17911286e-01   8.60970180e-03]\n",
        " [  5.00000000e+00   3.34600000e+03   5.82926829e-01   1.01472023e-02]\n",
        " [  5.50000000e+00   2.87900000e+03   5.77532598e-01   1.09795662e-02]\n",
        " [  6.00000000e+00   2.46500000e+03   5.82742317e-01   1.18237816e-02]\n",
        " [  6.50000000e+00   2.14800000e+03   5.79600648e-01   1.26935630e-02]\n",
        " [  7.00000000e+00   1.80200000e+03   5.69712298e-01   1.39489518e-02]\n",
        " [  7.50000000e+00   1.59600000e+03   5.79310345e-01   1.47288800e-02]\n",
        " [  8.00000000e+00   1.45400000e+03   5.81600000e-01   1.54072523e-02]\n",
        " [  8.50000000e+00   1.31800000e+03   5.83702391e-01   1.61591030e-02]\n",
        " [  9.00000000e+00   1.16400000e+03   5.85218703e-01   1.71765859e-02]\n",
        " [  9.50000000e+00   1.04600000e+03   5.68169473e-01   1.83263335e-02]\n",
        " [  1.00000000e+01   9.42000000e+02   5.70217918e-01   1.92865282e-02]\n",
        " [  1.10000000e+01   7.74000000e+02   5.65376187e-01   2.13414563e-02]\n",
        " [  1.20000000e+01   5.45000000e+02   4.96357013e-01   2.62622900e-02]\n",
        " [  1.30000000e+01   5.06000000e+02   5.23267839e-01   2.69820446e-02]\n",
        " [  1.40000000e+01   4.84000000e+02   5.91687042e-01   2.65136499e-02]\n",
        " [  1.50000000e+01   3.81000000e+02   5.60294118e-01   3.05115009e-02]\n",
        " [  1.60000000e+01   2.94000000e+02   5.05154639e-01   3.56509735e-02]\n",
        " [  1.70000000e+01   2.77000000e+02   5.60728745e-01   3.57745553e-02]\n",
        " [  1.80000000e+01   2.12000000e+02   5.08393285e-01   4.19341689e-02]\n",
        " [  2.00000000e+01   1.76000000e+02   5.50000000e-01   4.51559797e-02]\n",
        " [  2.50000000e+01   9.20000000e+01   4.86772487e-01   6.41026786e-02]]\n"
       ]
      }
     ],
     "prompt_number": 30
    },
    {
     "cell_type": "code",
     "collapsed": false,
     "input": [
      "#savetxt(\"tabla1\",tabla1,delimiter = \"&\",fmt=['%.2f','%d','%.2f','%d','%.2f'] )\n",
      "savetxt(\"tabla2\",tabla2,delimiter = \"&\",fmt=['%.2f','%d','%.3f','%.3f'] )"
     ],
     "language": "python",
     "metadata": {},
     "outputs": [],
     "prompt_number": 33
    },
    {
     "cell_type": "code",
     "collapsed": false,
     "input": [],
     "language": "python",
     "metadata": {},
     "outputs": []
    }
   ],
   "metadata": {}
  }
 ]
}